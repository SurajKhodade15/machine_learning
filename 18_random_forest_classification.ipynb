{
 "cells": [
  {
   "cell_type": "markdown",
   "id": "3adc2c04",
   "metadata": {},
   "source": [
    "# Random Forest Classification — Theory & Interview Q&A\n",
    "\n",
    "Random Forest Classification is an ensemble learning method that builds multiple decision trees and combines their predictions to improve accuracy and reduce overfitting.\n",
    "\n",
    "| Aspect                | Details                                                                 |\n",
    "|-----------------------|------------------------------------------------------------------------|\n",
    "| **Definition**        | Ensemble of decision trees for classification, uses majority voting.     |\n",
    "| **Equation**          | Aggregates predictions from multiple trees                              |\n",
    "| **Use Cases**         | Medical diagnosis, fraud detection, customer segmentation               |\n",
    "| **Assumptions**       | No strict assumptions, handles non-linear relationships                 |\n",
    "| **Pros**              | Reduces overfitting, handles mixed data, robust to noise                |\n",
    "| **Cons**              | Less interpretable, slower for large datasets                           |\n",
    "| **Key Parameters**    | n_estimators, max_depth, min_samples_split, max_features                |\n",
    "| **Evaluation Metrics**| Accuracy, Precision, Recall, F1-score                                   |\n",
    "\n",
    "## Interview Q&A\n",
    "\n",
    "**Q1: What is a Random Forest?**  \n",
    "A: An ensemble of decision trees that combines their predictions for better accuracy.\n",
    "\n",
    "**Q2: How does Random Forest reduce overfitting?**  \n",
    "A: By averaging predictions from many trees, each trained on random subsets.\n",
    "\n",
    "**Q3: What is bagging?**  \n",
    "A: Training each tree on a random sample of the data (bootstrap aggregating).\n",
    "\n",
    "**Q4: What are the advantages of Random Forest?**  \n",
    "A: Robust to noise, reduces overfitting, handles mixed data types.\n",
    "\n",
    "**Q5: What are the limitations?**  \n",
    "A: Less interpretable, slower for large datasets.\n",
    "\n",
    "**Q6: How do you evaluate Random Forest?**  \n",
    "A: Using accuracy, precision, recall, and F1-score."
   ]
  },
  {
   "cell_type": "code",
   "execution_count": 1,
   "id": "a2e1d937",
   "metadata": {},
   "outputs": [
    {
     "name": "stdout",
     "output_type": "stream",
     "text": [
      "Best Parameters: {'rf__max_depth': None, 'rf__max_features': 'sqrt', 'rf__min_samples_leaf': 1, 'rf__min_samples_split': 10, 'rf__n_estimators': 50}\n",
      "Test Accuracy: 0.9666666666666667\n",
      "\n",
      "Confusion Matrix:\n",
      " [[10  0  0]\n",
      " [ 0  9  1]\n",
      " [ 0  0 10]]\n",
      "\n",
      "Classification Report:\n",
      "               precision    recall  f1-score   support\n",
      "\n",
      "           0       1.00      1.00      1.00        10\n",
      "           1       1.00      0.90      0.95        10\n",
      "           2       0.91      1.00      0.95        10\n",
      "\n",
      "    accuracy                           0.97        30\n",
      "   macro avg       0.97      0.97      0.97        30\n",
      "weighted avg       0.97      0.97      0.97        30\n",
      "\n"
     ]
    },
    {
     "name": "stderr",
     "output_type": "stream",
     "text": [
      "C:\\Users\\Suraj Khodade\\AppData\\Local\\Temp\\ipykernel_11368\\3167705562.py:57: FutureWarning: \n",
      "\n",
      "Passing `palette` without assigning `hue` is deprecated and will be removed in v0.14.0. Assign the `y` variable to `hue` and set `legend=False` for the same effect.\n",
      "\n",
      "  sns.barplot(x='Importance', y='Feature', data=feat_imp_df, palette='viridis')\n"
     ]
    },
    {
     "data": {
      "image/png": "[encoded data removed]",
      "text/plain": [
       "<Figure size 800x500 with 1 Axes>"
      ]
     },
     "metadata": {},
     "output_type": "display_data"
    }
   ],
   "source": [
    "# 1️⃣ Import Libraries\n",
    "import numpy as np\n",
    "import pandas as pd\n",
    "from sklearn.datasets import load_iris\n",
    "from sklearn.model_selection import train_test_split, GridSearchCV\n",
    "from sklearn.preprocessing import StandardScaler\n",
    "from sklearn.ensemble import RandomForestClassifier\n",
    "from sklearn.pipeline import Pipeline\n",
    "from sklearn.metrics import accuracy_score, confusion_matrix, classification_report\n",
    "import matplotlib.pyplot as plt\n",
    "import seaborn as sns\n",
    "\n",
    "# 2️⃣ Load Dataset\n",
    "data = load_iris()\n",
    "X = pd.DataFrame(data.data, columns=data.feature_names)\n",
    "y = pd.Series(data.target)\n",
    "\n",
    "# 3️⃣ Split Dataset\n",
    "X_train, X_test, y_train, y_test = train_test_split(\n",
    "    X, y, test_size=0.2, random_state=42, stratify=y\n",
    ")\n",
    "\n",
    "# 4️⃣ Create Pipeline\n",
    "pipeline = Pipeline([\n",
    "    ('scaler', StandardScaler()),  # Optional for tree-based models\n",
    "    ('rf', RandomForestClassifier(random_state=42))\n",
    "])\n",
    "\n",
    "# 5️⃣ Hyperparameter Tuning\n",
    "param_grid = {\n",
    "    'rf__n_estimators': [50, 100, 200],\n",
    "    'rf__max_depth': [None, 3, 5, 7],\n",
    "    'rf__min_samples_split': [2, 5, 10],\n",
    "    'rf__min_samples_leaf': [1, 2, 4],\n",
    "    'rf__max_features': ['sqrt', 'log2', None]\n",
    "}\n",
    "\n",
    "grid_search = GridSearchCV(pipeline, param_grid, cv=5, scoring='accuracy')\n",
    "grid_search.fit(X_train, y_train)\n",
    "\n",
    "# 6️⃣ Best Model Evaluation\n",
    "best_model = grid_search.best_estimator_\n",
    "y_pred = best_model.predict(X_test)\n",
    "\n",
    "print(\"Best Parameters:\", grid_search.best_params_)\n",
    "print(\"Test Accuracy:\", accuracy_score(y_test, y_pred))\n",
    "print(\"\\nConfusion Matrix:\\n\", confusion_matrix(y_test, y_pred))\n",
    "print(\"\\nClassification Report:\\n\", classification_report(y_test, y_pred))\n",
    "\n",
    "# 7️⃣ Feature Importance Visualization\n",
    "importances = best_model.named_steps['rf'].feature_importances_\n",
    "feature_names = X.columns\n",
    "feat_imp_df = pd.DataFrame({'Feature': feature_names, 'Importance': importances})\n",
    "feat_imp_df = feat_imp_df.sort_values(by='Importance', ascending=False)\n",
    "\n",
    "plt.figure(figsize=(8,5))\n",
    "sns.barplot(x='Importance', y='Feature', data=feat_imp_df, palette='viridis')\n",
    "plt.title(\"Feature Importance in Random Forest Classifier\")\n",
    "plt.show()\n"
   ]
  }
 ],
 "metadata": {
  "kernelspec": {
   "display_name": "Python 3",
   "language": "python",
   "name": "python3"
  },
  "language_info": {
   "codemirror_mode": {
    "name": "ipython",
    "version": 3
   },
   "file_extension": ".py",
   "mimetype": "text/x-python",
   "name": "python",
   "nbconvert_exporter": "python",
   "pygments_lexer": "ipython3",
   "version": "3.11.0"
  }
 },
 "nbformat": 4,
 "nbformat_minor": 5
}
